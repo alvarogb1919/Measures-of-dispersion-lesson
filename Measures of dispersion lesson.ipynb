{
 "cells": [
  {
   "cell_type": "code",
   "execution_count": 1,
   "metadata": {},
   "outputs": [
    {
     "data": {
      "text/plain": [
       "29"
      ]
     },
     "execution_count": 1,
     "metadata": {},
     "output_type": "execute_result"
    }
   ],
   "source": [
    "# 1. What is the range for the data set\n",
    "points = [-4,  17,  25,  19,  6,  11,  7]\n",
    "\n",
    "max(points) - min(points)"
   ]
  },
  {
   "cell_type": "code",
   "execution_count": 2,
   "metadata": {},
   "outputs": [
    {
     "data": {
      "text/plain": [
       "2.804757862395017"
      ]
     },
     "execution_count": 2,
     "metadata": {},
     "output_type": "execute_result"
    }
   ],
   "source": [
    "# 2. You are given the following dataset:\n",
    "data = [2,4,7,1,6,8]\n",
    "# How does the standard deviation change when 6 is replaced with 12 ? Does it increase, or decrease, or it remains the same?\n",
    "\n",
    "import statistics as stats\n",
    "\n",
    "stats.stdev(data)"
   ]
  },
  {
   "cell_type": "code",
   "execution_count": 3,
   "metadata": {},
   "outputs": [
    {
     "data": {
      "text/plain": [
       "4.131182235954578"
      ]
     },
     "execution_count": 3,
     "metadata": {},
     "output_type": "execute_result"
    }
   ],
   "source": [
    "data_2 = [2,4,7,1,12,8]\n",
    "\n",
    "import statistics as stats\n",
    "\n",
    "stats.stdev(data_2)"
   ]
  },
  {
   "cell_type": "code",
   "execution_count": 4,
   "metadata": {},
   "outputs": [],
   "source": [
    "# 3. Is is possile to have a dataset with 0 standard deviation or variance? If yes, can you think of any dataset with 6 data points that have 0 standard deviation?\n",
    "\n",
    "# Yes, any data set with the same 6 data points will have a st.dev of 0"
   ]
  },
  {
   "cell_type": "code",
   "execution_count": 5,
   "metadata": {},
   "outputs": [],
   "source": [
    "# 4. We know that standard deviation is a measure of spread in the dataset. What is meant by deviation here?\n",
    "\n",
    "# Deviation from the mean"
   ]
  },
  {
   "cell_type": "code",
   "execution_count": 6,
   "metadata": {},
   "outputs": [
    {
     "name": "stdout",
     "output_type": "stream",
     "text": [
      "-18.5\n",
      "-29.5\n",
      "-7.5\n",
      "23.5\n",
      "-7.5\n",
      "39.5\n"
     ]
    }
   ],
   "source": [
    "# Given the dataset in the list:\n",
    "data_3 = [23, 12, 34, 65, 34, 81]\n",
    "\n",
    "# What is the deviation from the mean for each of the points in the list. Write a for loop and print each of the values \n",
    "\n",
    "import statistics as stats\n",
    "\n",
    "mean = stats.mean(data_3)\n",
    "\n",
    "for i in data_3:\n",
    "    print(i - mean)"
   ]
  },
  {
   "cell_type": "code",
   "execution_count": null,
   "metadata": {},
   "outputs": [],
   "source": [
    "# 6. How is standard deviation different than variance ?  \n",
    "\n",
    "# The unit of the variance is squared of the unit of the original data while unit of standard deviation is same as the unit of the original data\n"
   ]
  }
 ],
 "metadata": {
  "kernelspec": {
   "display_name": "Python 3",
   "language": "python",
   "name": "python3"
  },
  "language_info": {
   "codemirror_mode": {
    "name": "ipython",
    "version": 3
   },
   "file_extension": ".py",
   "mimetype": "text/x-python",
   "name": "python",
   "nbconvert_exporter": "python",
   "pygments_lexer": "ipython3",
   "version": "3.8.5"
  }
 },
 "nbformat": 4,
 "nbformat_minor": 4
}
